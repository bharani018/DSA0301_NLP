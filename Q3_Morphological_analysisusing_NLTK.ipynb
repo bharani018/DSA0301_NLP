{
  "nbformat": 4,
  "nbformat_minor": 0,
  "metadata": {
    "colab": {
      "provenance": [],
      "authorship_tag": "ABX9TyOjluNwWQGExXW6w/Zf7CLj",
      "include_colab_link": true
    },
    "kernelspec": {
      "name": "python3",
      "display_name": "Python 3"
    },
    "language_info": {
      "name": "python"
    }
  },
  "cells": [
    {
      "cell_type": "markdown",
      "metadata": {
        "id": "view-in-github",
        "colab_type": "text"
      },
      "source": [
        "<a href=\"https://colab.research.google.com/github/bharani018/DSA0301_NLP/blob/main/Q3_Morphological_analysisusing_NLTK.ipynb\" target=\"_parent\"><img src=\"https://colab.research.google.com/assets/colab-badge.svg\" alt=\"Open In Colab\"/></a>"
      ]
    },
    {
      "cell_type": "code",
      "execution_count": 1,
      "metadata": {
        "colab": {
          "base_uri": "https://localhost:8080/"
        },
        "id": "lKyImFGCJ1wR",
        "outputId": "6d89f57b-6bd3-4505-de65-30637af4465f"
      },
      "outputs": [
        {
          "output_type": "stream",
          "name": "stdout",
          "text": [
            "Requirement already satisfied: nltk in /usr/local/lib/python3.10/dist-packages (3.8.1)\n",
            "Requirement already satisfied: click in /usr/local/lib/python3.10/dist-packages (from nltk) (8.1.7)\n",
            "Requirement already satisfied: joblib in /usr/local/lib/python3.10/dist-packages (from nltk) (1.3.2)\n",
            "Requirement already satisfied: regex>=2021.8.3 in /usr/local/lib/python3.10/dist-packages (from nltk) (2023.6.3)\n",
            "Requirement already satisfied: tqdm in /usr/local/lib/python3.10/dist-packages (from nltk) (4.66.1)\n"
          ]
        }
      ],
      "source": [
        "pip install nltk"
      ]
    },
    {
      "cell_type": "code",
      "source": [
        "import nltk\n",
        "nltk.download('wordnet')\n",
        "nltk.download('averaged_perceptron_tagger')"
      ],
      "metadata": {
        "colab": {
          "base_uri": "https://localhost:8080/"
        },
        "id": "vbuYBAqXKA-N",
        "outputId": "d73030a7-8d08-4a1b-acf5-7582eecbf535"
      },
      "execution_count": 2,
      "outputs": [
        {
          "output_type": "stream",
          "name": "stderr",
          "text": [
            "[nltk_data] Downloading package wordnet to /root/nltk_data...\n",
            "[nltk_data] Downloading package averaged_perceptron_tagger to\n",
            "[nltk_data]     /root/nltk_data...\n",
            "[nltk_data]   Unzipping taggers/averaged_perceptron_tagger.zip.\n"
          ]
        },
        {
          "output_type": "execute_result",
          "data": {
            "text/plain": [
              "True"
            ]
          },
          "metadata": {},
          "execution_count": 2
        }
      ]
    },
    {
      "cell_type": "code",
      "source": [
        "import nltk\n",
        "from nltk.stem import WordNetLemmatizer\n",
        "from nltk.corpus import wordnet\n",
        "\n",
        "# Download WordNet data (if not already downloaded)\n",
        "nltk.download('wordnet')\n",
        "\n",
        "lemmatizer = WordNetLemmatizer()\n",
        "words = [\"cats\", \"running\", \"better\", \"rocks\"]\n",
        "\n",
        "for word in words:\n",
        "    pos_tag = nltk.pos_tag([word])[0][1]\n",
        "\n",
        "    if pos_tag.startswith('J'):\n",
        "        pos = wordnet.ADJ\n",
        "    elif pos_tag.startswith('V'):\n",
        "        pos = wordnet.VERB\n",
        "    elif pos_tag.startswith('N'):\n",
        "        pos = wordnet.NOUN\n",
        "    elif pos_tag.startswith('R'):\n",
        "        pos = wordnet.ADV\n",
        "    else:\n",
        "        pos = wordnet.NOUN\n",
        "\n",
        "    lemma = lemmatizer.lemmatize(word, pos)\n",
        "    print(f\"Word: {word}, POS Tag: {pos_tag}, Lemma: {lemma}\")\n"
      ],
      "metadata": {
        "colab": {
          "base_uri": "https://localhost:8080/"
        },
        "id": "gH8F23upKQ3D",
        "outputId": "d9cdedc6-c095-41c3-9c73-2b7bd1bcf275"
      },
      "execution_count": 3,
      "outputs": [
        {
          "output_type": "stream",
          "name": "stderr",
          "text": [
            "[nltk_data] Downloading package wordnet to /root/nltk_data...\n",
            "[nltk_data]   Package wordnet is already up-to-date!\n"
          ]
        },
        {
          "output_type": "stream",
          "name": "stdout",
          "text": [
            "Word: cats, POS Tag: NNS, Lemma: cat\n",
            "Word: running, POS Tag: VBG, Lemma: run\n",
            "Word: better, POS Tag: RBR, Lemma: well\n",
            "Word: rocks, POS Tag: NNS, Lemma: rock\n"
          ]
        }
      ]
    }
  ]
}