{
  "nbformat": 4,
  "nbformat_minor": 0,
  "metadata": {
    "colab": {
      "provenance": [],
      "authorship_tag": "ABX9TyOEPnfkOMlWZcMZXMMYaVjH",
      "include_colab_link": true
    },
    "kernelspec": {
      "name": "python3",
      "display_name": "Python 3"
    },
    "language_info": {
      "name": "python"
    }
  },
  "cells": [
    {
      "cell_type": "markdown",
      "metadata": {
        "id": "view-in-github",
        "colab_type": "text"
      },
      "source": [
        "<a href=\"https://colab.research.google.com/github/bharani018/DSA0301_NLP/blob/main/Q21_syntax_driven_semantic_analysis_by_extracting_noun_phrases_and_their_meanings_from_a_sentence.ipynb\" target=\"_parent\"><img src=\"https://colab.research.google.com/assets/colab-badge.svg\" alt=\"Open In Colab\"/></a>"
      ]
    },
    {
      "cell_type": "code",
      "execution_count": 2,
      "metadata": {
        "colab": {
          "base_uri": "https://localhost:8080/"
        },
        "id": "a7P61Vo4FVO5",
        "outputId": "815e089f-e8b8-448d-89d5-1015755f3e76"
      },
      "outputs": [
        {
          "output_type": "stream",
          "name": "stderr",
          "text": [
            "[nltk_data] Downloading package punkt to /root/nltk_data...\n",
            "[nltk_data]   Unzipping tokenizers/punkt.zip.\n",
            "[nltk_data] Downloading package averaged_perceptron_tagger to\n",
            "[nltk_data]     /root/nltk_data...\n",
            "[nltk_data]   Unzipping taggers/averaged_perceptron_tagger.zip.\n",
            "[nltk_data] Downloading package wordnet to /root/nltk_data...\n"
          ]
        },
        {
          "output_type": "execute_result",
          "data": {
            "text/plain": [
              "True"
            ]
          },
          "metadata": {},
          "execution_count": 2
        }
      ],
      "source": [
        "import nltk\n",
        "nltk.download('punkt')\n",
        "nltk.download('averaged_perceptron_tagger')\n",
        "nltk.download('wordnet')"
      ]
    },
    {
      "cell_type": "code",
      "source": [
        "import nltk\n",
        "from nltk.corpus import wordnet\n",
        "\n",
        "sentence = \"The quick brown fox jumps over the lazy dog\"\n",
        "\n",
        "tokens = nltk.word_tokenize(sentence)\n",
        "tagged_tokens = nltk.pos_tag(tokens)\n",
        "\n",
        "grammar = r\"NP: {<.*>*}\"\n",
        "chunk_parser = nltk.RegexpParser(grammar)\n",
        "tree = chunk_parser.parse(tagged_tokens)\n",
        "\n",
        "noun_phrases = []\n",
        "for subtree in tree.subtrees():\n",
        "    if subtree.label() == 'NP':\n",
        "        noun_phrase_words = [word for word, tag in subtree.leaves()]\n",
        "        noun_phrases.append(' '.join(noun_phrase_words))\n",
        "\n",
        "def get_meanings(noun_phrase):\n",
        "    synsets = wordnet.synsets(noun_phrase)\n",
        "    meanings = []\n",
        "    for synset in synsets:\n",
        "        meanings.append({\n",
        "            \"Name\": synset.name(),\n",
        "            \"Definition\": synset.definition(),\n",
        "            \"Examples\": synset.examples()\n",
        "        })\n",
        "    return meanings\n",
        "\n",
        "noun_phrase_meanings = {}\n",
        "for noun_phrase in noun_phrases:\n",
        "    meanings = get_meanings(noun_phrase)\n",
        "    noun_phrase_meanings[noun_phrase] = meanings\n",
        "\n",
        "for noun_phrase, meanings in noun_phrase_meanings.items():\n",
        "    print(f\"Noun Phrase: '{noun_phrase}'\")\n",
        "    for meaning in meanings:\n",
        "        print(f\"\\tSynset: {meaning['Name']}\")\n",
        "        print(f\"\\tDefinition: {meaning['Definition']}\")\n",
        "        if meaning['Examples']:\n",
        "            print(f\"\\tExample: {', '.join(meaning['Examples'])}\")\n",
        "    print(\"\\n\")\n"
      ],
      "metadata": {
        "colab": {
          "base_uri": "https://localhost:8080/"
        },
        "id": "bQ2LvyQKGAQi",
        "outputId": "393a9f43-1138-4a1c-ea18-c6029b70d5a9"
      },
      "execution_count": 6,
      "outputs": [
        {
          "output_type": "stream",
          "name": "stdout",
          "text": [
            "Noun Phrase: 'The quick brown fox jumps over the lazy dog'\n",
            "\n",
            "\n"
          ]
        }
      ]
    }
  ]
}