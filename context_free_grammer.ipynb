{
  "nbformat": 4,
  "nbformat_minor": 0,
  "metadata": {
    "colab": {
      "provenance": [],
      "authorship_tag": "ABX9TyM+t0wIa5utjovJGL7uyrLK",
      "include_colab_link": true
    },
    "kernelspec": {
      "name": "python3",
      "display_name": "Python 3"
    },
    "language_info": {
      "name": "python"
    }
  },
  "cells": [
    {
      "cell_type": "markdown",
      "metadata": {
        "id": "view-in-github",
        "colab_type": "text"
      },
      "source": [
        "<a href=\"https://colab.research.google.com/github/bharani018/DSA0301_NLP/blob/main/context_free_grammer.ipynb\" target=\"_parent\"><img src=\"https://colab.research.google.com/assets/colab-badge.svg\" alt=\"Open In Colab\"/></a>"
      ]
    },
    {
      "cell_type": "code",
      "execution_count": 2,
      "metadata": {
        "colab": {
          "base_uri": "https://localhost:8080/"
        },
        "id": "CrtTqhNEus4f",
        "outputId": "9b766e4b-872f-4db6-d95d-a4ab5f292392"
      },
      "outputs": [
        {
          "output_type": "stream",
          "name": "stdout",
          "text": [
            "     S                              \n",
            "  ___|___________                    \n",
            " |               VP                 \n",
            " |        _______|_______            \n",
            " |       VP              PP         \n",
            " |    ___|___         ___|___        \n",
            " |   |       NP      |       NP     \n",
            " |   |    ___|___    |    ___|___    \n",
            " NP  V  Det      N   P  Det      N  \n",
            " |   |   |       |   |   |       |   \n",
            " I  saw the     dog  in the     park\n",
            "\n",
            "     S                          \n",
            "  ___|_______                    \n",
            " |           VP                 \n",
            " |    _______|___                \n",
            " |   |           NP             \n",
            " |   |    _______|___            \n",
            " |   |   |   |       PP         \n",
            " |   |   |   |    ___|___        \n",
            " |   |   |   |   |       NP     \n",
            " |   |   |   |   |    ___|___    \n",
            " NP  V  Det  N   P  Det      N  \n",
            " |   |   |   |   |   |       |   \n",
            " I  saw the dog  in the     park\n",
            "\n"
          ]
        }
      ],
      "source": [
        "import nltk\n",
        "from nltk import CFG\n",
        "\n",
        "# Define a context-free grammar for English sentences\n",
        "grammar = CFG.fromstring(\"\"\"\n",
        "    S -> NP VP\n",
        "    NP -> Det N | Det N PP | 'I'\n",
        "    VP -> V NP | VP PP\n",
        "    PP -> P NP\n",
        "    Det -> 'the' | 'a'\n",
        "    N -> 'cat' | 'dog' | 'man' | 'park'\n",
        "    V -> 'chased' | 'saw'\n",
        "    P -> 'in' | 'on'\n",
        "\"\"\")\n",
        "\n",
        "# Create a parser using the defined grammar\n",
        "parser = nltk.ChartParser(grammar)\n",
        "\n",
        "# Input sentence to parse\n",
        "sentence = \"I saw the dog in the park\"\n",
        "\n",
        "# Tokenize the sentence\n",
        "tokens = sentence.split()\n",
        "\n",
        "# Parse the sentence\n",
        "for tree in parser.parse(tokens):\n",
        "    tree.pretty_print()"
      ]
    }
  ]
}