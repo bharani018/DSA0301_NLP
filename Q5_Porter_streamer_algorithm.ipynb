{
  "nbformat": 4,
  "nbformat_minor": 0,
  "metadata": {
    "colab": {
      "provenance": [],
      "authorship_tag": "ABX9TyPSLe8UTNQEPqlWaneAxA8C",
      "include_colab_link": true
    },
    "kernelspec": {
      "name": "python3",
      "display_name": "Python 3"
    },
    "language_info": {
      "name": "python"
    }
  },
  "cells": [
    {
      "cell_type": "markdown",
      "metadata": {
        "id": "view-in-github",
        "colab_type": "text"
      },
      "source": [
        "<a href=\"https://colab.research.google.com/github/bharani018/DSA0301_NLP/blob/main/Q5_Porter_streamer_algorithm.ipynb\" target=\"_parent\"><img src=\"https://colab.research.google.com/assets/colab-badge.svg\" alt=\"Open In Colab\"/></a>"
      ]
    },
    {
      "cell_type": "code",
      "execution_count": 1,
      "metadata": {
        "colab": {
          "base_uri": "https://localhost:8080/"
        },
        "id": "tGdSKpj8LIZK",
        "outputId": "8c03f6fd-bfa7-4c30-d75f-a0ac6c3785cf"
      },
      "outputs": [
        {
          "output_type": "stream",
          "name": "stdout",
          "text": [
            "Original Word  Stemmed Word   \n",
            "==============================\n",
            "running        run            \n",
            "flies          fli            \n",
            "happily        happili        \n",
            "fishing        fish           \n",
            "swimming       swim           \n",
            "jumps          jump           \n"
          ]
        }
      ],
      "source": [
        "import nltk\n",
        "from nltk.stem import PorterStemmer\n",
        "\n",
        "def perform_stemming(words):\n",
        "    porter_stemmer = PorterStemmer()\n",
        "    stemmed_words = [porter_stemmer.stem(word) for word in words]\n",
        "    return stemmed_words\n",
        "\n",
        "def main():\n",
        "    words = [\"running\", \"flies\", \"happily\", \"fishing\", \"swimming\", \"jumps\"]\n",
        "\n",
        "    stemmed_words = perform_stemming(words)\n",
        "\n",
        "    print(f\"{'Original Word':<15}{'Stemmed Word':<15}\")\n",
        "    print(\"=\"*30)\n",
        "    for original, stemmed in zip(words, stemmed_words):\n",
        "        print(f\"{original:<15}{stemmed:<15}\")\n",
        "\n",
        "if __name__ == \"__main__\":\n",
        "    main()\n",
        ""
      ]
    }
  ]
}