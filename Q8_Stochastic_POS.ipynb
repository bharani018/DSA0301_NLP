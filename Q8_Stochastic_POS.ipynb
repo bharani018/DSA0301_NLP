{
  "nbformat": 4,
  "nbformat_minor": 0,
  "metadata": {
    "colab": {
      "provenance": [],
      "authorship_tag": "ABX9TyPvbTwwTpNVc/T6tWlRDqKd",
      "include_colab_link": true
    },
    "kernelspec": {
      "name": "python3",
      "display_name": "Python 3"
    },
    "language_info": {
      "name": "python"
    }
  },
  "cells": [
    {
      "cell_type": "markdown",
      "metadata": {
        "id": "view-in-github",
        "colab_type": "text"
      },
      "source": [
        "<a href=\"https://colab.research.google.com/github/bharani018/DSA0301_NLP/blob/main/Q8_Stochastic_POS.ipynb\" target=\"_parent\"><img src=\"https://colab.research.google.com/assets/colab-badge.svg\" alt=\"Open In Colab\"/></a>"
      ]
    },
    {
      "cell_type": "code",
      "source": [
        "pip install nltk"
      ],
      "metadata": {
        "colab": {
          "base_uri": "https://localhost:8080/"
        },
        "id": "Ct5Y4WBWSdSk",
        "outputId": "af00b3bb-1f3b-4eef-d18f-68d0bf26b01c"
      },
      "execution_count": 2,
      "outputs": [
        {
          "output_type": "stream",
          "name": "stdout",
          "text": [
            "Requirement already satisfied: nltk in /usr/local/lib/python3.10/dist-packages (3.8.1)\n",
            "Requirement already satisfied: click in /usr/local/lib/python3.10/dist-packages (from nltk) (8.1.7)\n",
            "Requirement already satisfied: joblib in /usr/local/lib/python3.10/dist-packages (from nltk) (1.3.2)\n",
            "Requirement already satisfied: regex>=2021.8.3 in /usr/local/lib/python3.10/dist-packages (from nltk) (2023.6.3)\n",
            "Requirement already satisfied: tqdm in /usr/local/lib/python3.10/dist-packages (from nltk) (4.66.1)\n"
          ]
        }
      ]
    },
    {
      "cell_type": "code",
      "source": [
        "\n",
        "pip install random"
      ],
      "metadata": {
        "colab": {
          "base_uri": "https://localhost:8080/"
        },
        "id": "i_GKLt3mSh53",
        "outputId": "d339005c-0614-493d-d258-8da6bc2664c5"
      },
      "execution_count": 5,
      "outputs": [
        {
          "output_type": "stream",
          "name": "stdout",
          "text": [
            "\u001b[31mERROR: Could not find a version that satisfies the requirement random (from versions: none)\u001b[0m\u001b[31m\n",
            "\u001b[0m\u001b[31mERROR: No matching distribution found for random\u001b[0m\u001b[31m\n",
            "\u001b[0m"
          ]
        }
      ]
    },
    {
      "cell_type": "code",
      "source": [
        "import random\n",
        "\n",
        "random_number = random.randint(1, 10)\n",
        "print(random_number)\n"
      ],
      "metadata": {
        "colab": {
          "base_uri": "https://localhost:8080/"
        },
        "id": "bOtKfA_4TS5H",
        "outputId": "07281d67-faca-40e7-c596-3969bb97c3c3"
      },
      "execution_count": 8,
      "outputs": [
        {
          "output_type": "stream",
          "name": "stdout",
          "text": [
            "7\n"
          ]
        }
      ]
    },
    {
      "cell_type": "code",
      "source": [
        "import nltk\n",
        "nltk.download('brown')\n"
      ],
      "metadata": {
        "colab": {
          "base_uri": "https://localhost:8080/"
        },
        "id": "-OQ4TF2qTcAr",
        "outputId": "40724fe5-af1e-455b-9f28-da3ae7651c1e"
      },
      "execution_count": 9,
      "outputs": [
        {
          "output_type": "stream",
          "name": "stderr",
          "text": [
            "[nltk_data] Downloading package brown to /root/nltk_data...\n",
            "[nltk_data]   Unzipping corpora/brown.zip.\n"
          ]
        },
        {
          "output_type": "execute_result",
          "data": {
            "text/plain": [
              "True"
            ]
          },
          "metadata": {},
          "execution_count": 9
        }
      ]
    },
    {
      "cell_type": "code",
      "execution_count": 10,
      "metadata": {
        "colab": {
          "base_uri": "https://localhost:8080/"
        },
        "id": "w-2Da6jTSLUa",
        "outputId": "f713442f-ed0b-4af8-c7bc-c2ecc6e2db8a"
      },
      "outputs": [
        {
          "output_type": "stream",
          "name": "stdout",
          "text": [
            "[('Implement', 'NN'), ('a', 'AT'), ('simple', 'JJ'), ('stochastic', 'NN'), ('part-of-speech', 'NN'), ('tagging', 'NN'), ('algorithm', 'NN'), ('using', 'VBG'), ('a', 'AT'), ('basic', 'JJ'), ('probabilistic', 'NN'), ('model', 'NN'), ('to', 'TO'), ('assign', 'VB'), ('POS', 'NN'), ('tags', 'NN'), ('using', 'VBG'), ('python', 'NN')]\n"
          ]
        }
      ],
      "source": [
        "\n",
        "import nltk\n",
        "from nltk.corpus import brown\n",
        "from random import randint\n",
        "train_data = brown.tagged_sents(categories='news')\n",
        "word_tag_pairs = [(word, tag) for sentence in train_data for word, tag in sentence]\n",
        "word_tags_dict = {}\n",
        "for word, tag in word_tag_pairs:\n",
        "    if word not in word_tags_dict:\n",
        "        word_tags_dict[word] = []\n",
        "    word_tags_dict[word].append(tag)\n",
        "def stochastic_pos_tagger(sentence):\n",
        "    tagged_sentence = []\n",
        "    for word in sentence:\n",
        "        tag_list = word_tags_dict.get(word, ['NN'])\n",
        "        rand_index = randint(0, len(tag_list) - 1)\n",
        "        tagged_sentence.append((word, tag_list[rand_index]))\n",
        "    return tagged_sentence\n",
        "test_sentence = ['Implement', 'a', 'simple', 'stochastic', 'part-of-speech', 'tagging', 'algorithm', 'using', 'a', 'basic', 'probabilistic', 'model', 'to', 'assign', 'POS', 'tags', 'using', 'python']\n",
        "print(stochastic_pos_tagger(test_sentence))\n"
      ]
    }
  ]
}