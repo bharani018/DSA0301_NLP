{
  "nbformat": 4,
  "nbformat_minor": 0,
  "metadata": {
    "colab": {
      "provenance": [],
      "authorship_tag": "ABX9TyNMq0bCsK9ncQ6bckGrLBbk",
      "include_colab_link": true
    },
    "kernelspec": {
      "name": "python3",
      "display_name": "Python 3"
    },
    "language_info": {
      "name": "python"
    }
  },
  "cells": [
    {
      "cell_type": "markdown",
      "metadata": {
        "id": "view-in-github",
        "colab_type": "text"
      },
      "source": [
        "<a href=\"https://colab.research.google.com/github/bharani018/DSA0301_NLP/blob/main/Q17_how_to_access_WordNet%2C_a_lexical_database%2C_to_retrieve_synsets_and_explore_word_meanings.ipynb\" target=\"_parent\"><img src=\"https://colab.research.google.com/assets/colab-badge.svg\" alt=\"Open In Colab\"/></a>"
      ]
    },
    {
      "cell_type": "code",
      "execution_count": 2,
      "metadata": {
        "colab": {
          "base_uri": "https://localhost:8080/"
        },
        "id": "l1EGCQsXDhvt",
        "outputId": "c75e6fb9-d6c8-4901-b7a0-92cc5074dfea"
      },
      "outputs": [
        {
          "output_type": "stream",
          "name": "stderr",
          "text": [
            "[nltk_data] Downloading package wordnet to /root/nltk_data...\n"
          ]
        },
        {
          "output_type": "stream",
          "name": "stdout",
          "text": [
            "Synsets for 'play':\n",
            "Synset: play.n.01 - Definition: a dramatic work intended for performance by actors on a stage\n",
            "Synset: play.n.02 - Definition: a theatrical performance of a drama\n",
            "Synset: play.n.03 - Definition: a preset plan of action in team sports\n",
            "Synset: maneuver.n.03 - Definition: a deliberate coordinated movement requiring dexterity and skill\n",
            "Synset: play.n.05 - Definition: a state in which action is feasible\n",
            "Synset: play.n.06 - Definition: utilization or exercise\n",
            "Synset: bid.n.02 - Definition: an attempt to get something\n",
            "Synset: play.n.08 - Definition: activity by children that is guided more by imagination than by fixed rules\n",
            "Synset: playing_period.n.01 - Definition: (in games or plays or other performances) the time during which play proceeds\n",
            "Synset: free_rein.n.01 - Definition: the removal of constraints\n",
            "Synset: shimmer.n.01 - Definition: a weak and tremulous light\n",
            "Synset: fun.n.02 - Definition: verbal wit or mockery (often at another's expense but not to be taken seriously)\n",
            "Synset: looseness.n.05 - Definition: movement or space for movement\n",
            "Synset: play.n.14 - Definition: gay or light-hearted recreational activity for diversion or amusement\n",
            "Synset: turn.n.03 - Definition: (game) the activity of doing something in an agreed succession\n",
            "Synset: gambling.n.01 - Definition: the act of playing for stakes in the hope of winning (including the payment of a price for a chance to win a prize)\n",
            "Synset: play.n.17 - Definition: the act using a sword (or other weapon) vigorously and skillfully\n",
            "Synset: play.v.01 - Definition: participate in games or sport\n",
            "Synset: play.v.02 - Definition: act or have an effect in a specified way or with a specific effect or outcome\n",
            "Synset: play.v.03 - Definition: play on an instrument\n",
            "Synset: act.v.03 - Definition: play a role or part\n",
            "Synset: play.v.05 - Definition: be at play; be engaged in playful activity; amuse oneself in a way characteristic of children\n",
            "Synset: play.v.06 - Definition: replay (as a melody)\n",
            "Synset: play.v.07 - Definition: perform music on (a musical instrument)\n",
            "Synset: act.v.05 - Definition: pretend to have certain qualities or state of mind\n",
            "Synset: play.v.09 - Definition: move or seem to move quickly, lightly, or irregularly\n",
            "Synset: play.v.10 - Definition: bet or wager (money)\n",
            "Synset: play.v.11 - Definition: engage in recreational activities rather than work; occupy oneself in a diversion\n",
            "Synset: play.v.12 - Definition: pretend to be somebody in the framework of a game or playful activity\n",
            "Synset: play.v.13 - Definition: emit recorded sound\n",
            "Synset: play.v.14 - Definition: perform on a certain location\n",
            "Synset: play.v.15 - Definition: put (a card or piece) into play during a game, or act strategically as if in a card game\n",
            "Synset: play.v.16 - Definition: engage in an activity as if it were a game rather than take it seriously\n",
            "Synset: play.v.17 - Definition: behave in a certain way\n",
            "Synset: play.v.18 - Definition: cause to emit recorded audio or video\n",
            "Synset: toy.v.02 - Definition: manipulate manually or in one's mind or imagination\n",
            "Synset: play.v.20 - Definition: use to one's advantage\n",
            "Synset: dally.v.04 - Definition: consider not very seriously\n",
            "Synset: play.v.22 - Definition: be received or accepted or interpreted in a specific way\n",
            "Synset: dally.v.01 - Definition: behave carelessly or indifferently\n",
            "Synset: play.v.24 - Definition: cause to move or operate freely within a bounded space\n",
            "Synset: act.v.10 - Definition: perform on a stage or theater\n",
            "Synset: play.v.26 - Definition: be performed or presented for public viewing\n",
            "Synset: bring.v.03 - Definition: cause to happen or to occur as a consequence\n",
            "Synset: play.v.28 - Definition: discharge or direct or be discharged or directed as if in a continuous stream\n",
            "Synset: play.v.29 - Definition: make bets\n",
            "Synset: bet.v.02 - Definition: stake on the outcome of an issue\n",
            "Synset: play.v.31 - Definition: shoot or hit in a particular manner\n",
            "Synset: play.v.32 - Definition: use or move\n",
            "Synset: play.v.33 - Definition: employ in a game or in a specific position\n",
            "Synset: meet.v.10 - Definition: contend against an opponent in a sport, game, or battle\n",
            "Synset: play.v.35 - Definition: exhaust by allowing to pull on the line\n",
            "\n",
            "Hypernyms (more general terms) for 'play':\n",
            "Hypernym: dramatic_composition.n.01 - Definition: a play for performance on the stage or television or in a movie etc.\n",
            "\n",
            "Hyponyms (more specific terms) for 'play':\n",
            "Hyponym: grand_guignol.n.01 - Definition: a play of a macabre or horrific nature\n",
            "Hyponym: miracle_play.n.01 - Definition: a medieval play representing episodes from the life of a saint or martyr\n",
            "Hyponym: morality_play.n.01 - Definition: an allegorical play popular in the 15th and 16th centuries; characters personified virtues and vices\n",
            "Hyponym: mystery_play.n.01 - Definition: a medieval play representing episodes from the life of Christ\n",
            "Hyponym: passion_play.n.01 - Definition: a play representing the Passion of Christ\n",
            "Hyponym: playlet.n.01 - Definition: a short play\n",
            "Hyponym: satyr_play.n.01 - Definition: an ancient Greek burlesque with a chorus of satyrs\n",
            "Hyponym: theater_of_the_absurd.n.01 - Definition: plays stressing the irrational or illogical aspects of life, usually to show that modern life is pointless\n"
          ]
        }
      ],
      "source": [
        "import nltk\n",
        "nltk.download('wordnet')\n",
        "\n",
        "from nltk.corpus import wordnet\n",
        "\n",
        "word = \"play\"\n",
        "synsets = wordnet.synsets(word)\n",
        "\n",
        "if synsets:\n",
        "    print(f\"Synsets for '{word}':\")\n",
        "    for synset in synsets:\n",
        "        print(f\"Synset: {synset.name()} - Definition: {synset.definition()}\")\n",
        "\n",
        "\n",
        "    first_synset = synsets[0]\n",
        "    print(f\"\\nHypernyms (more general terms) for '{word}':\")\n",
        "    for hypernym in first_synset.hypernyms():\n",
        "        print(f\"Hypernym: {hypernym.name()} - Definition: {hypernym.definition()}\")\n",
        "\n",
        "    print(f\"\\nHyponyms (more specific terms) for '{word}':\")\n",
        "    for hyponym in first_synset.hyponyms():\n",
        "        print(f\"Hyponym: {hyponym.name()} - Definition: {hyponym.definition()}\")\n",
        "else:\n",
        "    print(f\"No synsets found for '{word}'\")"
      ]
    }
  ]
}