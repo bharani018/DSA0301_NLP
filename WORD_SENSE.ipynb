{
  "nbformat": 4,
  "nbformat_minor": 0,
  "metadata": {
    "colab": {
      "provenance": [],
      "authorship_tag": "ABX9TyONEIM7fBC11xKc1u+cX23C",
      "include_colab_link": true
    },
    "kernelspec": {
      "name": "python3",
      "display_name": "Python 3"
    },
    "language_info": {
      "name": "python"
    }
  },
  "cells": [
    {
      "cell_type": "markdown",
      "metadata": {
        "id": "view-in-github",
        "colab_type": "text"
      },
      "source": [
        "<a href=\"https://colab.research.google.com/github/bharani018/DSA0301_NLP/blob/main/WORD_SENSE.ipynb\" target=\"_parent\"><img src=\"https://colab.research.google.com/assets/colab-badge.svg\" alt=\"Open In Colab\"/></a>"
      ]
    },
    {
      "cell_type": "code",
      "source": [
        "pip install nltk"
      ],
      "metadata": {
        "colab": {
          "base_uri": "https://localhost:8080/"
        },
        "id": "nJVlmcVIqwGr",
        "outputId": "098c5f66-9230-4a5b-f29d-181050243173"
      },
      "execution_count": 3,
      "outputs": [
        {
          "output_type": "stream",
          "name": "stdout",
          "text": [
            "Requirement already satisfied: nltk in /usr/local/lib/python3.10/dist-packages (3.8.1)\n",
            "Requirement already satisfied: click in /usr/local/lib/python3.10/dist-packages (from nltk) (8.1.7)\n",
            "Requirement already satisfied: joblib in /usr/local/lib/python3.10/dist-packages (from nltk) (1.3.2)\n",
            "Requirement already satisfied: regex>=2021.8.3 in /usr/local/lib/python3.10/dist-packages (from nltk) (2023.6.3)\n",
            "Requirement already satisfied: tqdm in /usr/local/lib/python3.10/dist-packages (from nltk) (4.66.1)\n"
          ]
        }
      ]
    },
    {
      "cell_type": "code",
      "source": [
        "nltk.download('wordnet')\n",
        "nltk.download('punkt')"
      ],
      "metadata": {
        "colab": {
          "base_uri": "https://localhost:8080/"
        },
        "id": "DcSqrq96rFqM",
        "outputId": "205225d6-041f-4bf7-a5e8-ba5851ce3f85"
      },
      "execution_count": 7,
      "outputs": [
        {
          "output_type": "stream",
          "name": "stderr",
          "text": [
            "[nltk_data] Downloading package wordnet to /root/nltk_data...\n",
            "[nltk_data]   Package wordnet is already up-to-date!\n",
            "[nltk_data] Downloading package punkt to /root/nltk_data...\n",
            "[nltk_data]   Unzipping tokenizers/punkt.zip.\n"
          ]
        },
        {
          "output_type": "execute_result",
          "data": {
            "text/plain": [
              "True"
            ]
          },
          "metadata": {},
          "execution_count": 7
        }
      ]
    },
    {
      "cell_type": "code",
      "execution_count": 8,
      "metadata": {
        "colab": {
          "base_uri": "https://localhost:8080/"
        },
        "id": "IsupvfVEMXxx",
        "outputId": "42ec36ee-e8a4-443c-b694-99ef10663bca"
      },
      "outputs": [
        {
          "output_type": "stream",
          "name": "stderr",
          "text": [
            "[nltk_data] Downloading package wordnet to /root/nltk_data...\n",
            "[nltk_data]   Package wordnet is already up-to-date!\n"
          ]
        },
        {
          "output_type": "stream",
          "name": "stdout",
          "text": [
            "Word: I\n",
            "Synset: iodine.n.01\n",
            "Definition: a nonmetallic element belonging to the halogens; used especially in medicine and photography and in dyes; occurs naturally only in combination in small quantities (as in sea water or rocks)\n",
            "\n",
            "Word: saw\n",
            "Synset: saw.v.01\n",
            "Definition: cut with a saw\n",
            "\n",
            "Word: a\n",
            "Synset: deoxyadenosine_monophosphate.n.01\n",
            "Definition: one of the four nucleotides used in building DNA; all four nucleotides have a common phosphate group and a sugar (ribose)\n",
            "\n",
            "Word: bat\n",
            "Synset: cricket_bat.n.01\n",
            "Definition: the club used in playing cricket\n",
            "\n",
            "Word: flying\n",
            "Synset: fly.v.10\n",
            "Definition: display in the air or cause to float\n",
            "\n",
            "Word: in\n",
            "Synset: indium.n.01\n",
            "Definition: a rare soft silvery metallic element; occurs in small quantities in sphalerite\n",
            "\n",
            "Word: sky\n",
            "Synset: sky.n.01\n",
            "Definition: the atmosphere and outer space as viewed from the earth\n",
            "\n"
          ]
        }
      ],
      "source": [
        "import nltk\n",
        "from nltk.corpus import wordnet\n",
        "from nltk.wsd import lesk\n",
        "\n",
        "# Download WordNet data (if not already downloaded)\n",
        "nltk.download('wordnet')\n",
        "\n",
        "# Sample sentence with a polysemous word\n",
        "sentence = \"I saw a bat flying in the sky.\"\n",
        "\n",
        "# Tokenize the sentence\n",
        "tokens = nltk.word_tokenize(sentence)\n",
        "\n",
        "# Perform word sense disambiguation using the Lesk algorithm\n",
        "for word in tokens:\n",
        "    synset = lesk(tokens, word)\n",
        "    if synset:\n",
        "        print(f\"Word: {word}\")\n",
        "        print(f\"Synset: {synset.name()}\")\n",
        "        print(f\"Definition: {synset.definition()}\")\n",
        "        print()"
      ]
    },
    {
      "cell_type": "code",
      "source": [],
      "metadata": {
        "id": "hAD910FxtUV-"
      },
      "execution_count": 8,
      "outputs": []
    }
  ]
}