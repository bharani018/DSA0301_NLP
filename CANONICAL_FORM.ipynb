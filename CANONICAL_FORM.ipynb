{
  "cells": [
    {
      "cell_type": "markdown",
      "metadata": {
        "id": "view-in-github",
        "colab_type": "text"
      },
      "source": [
        "<a href=\"https://colab.research.google.com/github/bharani018/DSA0301_NLP/blob/main/CANONICAL_FORM.ipynb\" target=\"_parent\"><img src=\"https://colab.research.google.com/assets/colab-badge.svg\" alt=\"Open In Colab\"/></a>"
      ]
    },
    {
      "cell_type": "code",
      "execution_count": null,
      "metadata": {
        "colab": {
          "background_save": true,
          "base_uri": "https://localhost:8080/"
        },
        "id": "cogSbE7axf8q",
        "outputId": "cee4e538-39c4-44ab-ae24-d8d633444426"
      },
      "outputs": [
        {
          "name": "stdout",
          "output_type": "stream",
          "text": [
            "The temperature in the room is 25 degree celsius\n",
            "the room temperature is 25 degree celcius\n",
            "The canonical form of 'temperature' is 'Temperature'\n",
            "the temperature of 25 degree celcius: It is worm\n"
          ]
        }
      ],
      "source": [
        "print(\"The temperature in the room is 25 degree celsius\")\n",
        "tem_cel = 25\n",
        "print(f\"the room temperature is {tem_cel} degree celcius\")\n",
        "word = \"temperature\"\n",
        "canonical_form = word.capitalize()\n",
        "print(f\"The canonical form of '{word}' is '{canonical_form}'\")\n",
        "temp_in_cel = 25\n",
        "temp_in_faren = ((temp_in_cel)*9/5+32)\n",
        "def analyze_temp(temp):\n",
        "  if temp<0:\n",
        "    return \"It is freezing\"\n",
        "  elif 0<=temp<20:\n",
        "    return \"It is cool\"\n",
        "  else:\n",
        "    return \"It is worm\"\n",
        "\n",
        "analysis = analyze_temp(tem_cel)\n",
        "print(f\"the temperature of {tem_cel} degree celcius: {analysis}\")"
      ]
    }
  ],
  "metadata": {
    "colab": {
      "provenance": [],
      "authorship_tag": "ABX9TyP6oYHCaTx3xXbFr1fIcgjn",
      "include_colab_link": true
    },
    "kernelspec": {
      "display_name": "Python 3",
      "name": "python3"
    },
    "language_info": {
      "name": "python"
    }
  },
  "nbformat": 4,
  "nbformat_minor": 0
}