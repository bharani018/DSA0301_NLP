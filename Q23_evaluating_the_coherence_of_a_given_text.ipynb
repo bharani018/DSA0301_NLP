{
  "nbformat": 4,
  "nbformat_minor": 0,
  "metadata": {
    "colab": {
      "provenance": [],
      "authorship_tag": "ABX9TyNuIp+ClUlgkKnAZoRXJ9AU",
      "include_colab_link": true
    },
    "kernelspec": {
      "name": "python3",
      "display_name": "Python 3"
    },
    "language_info": {
      "name": "python"
    }
  },
  "cells": [
    {
      "cell_type": "markdown",
      "metadata": {
        "id": "view-in-github",
        "colab_type": "text"
      },
      "source": [
        "<a href=\"https://colab.research.google.com/github/bharani018/DSA0301_NLP/blob/main/Q23_evaluating_the_coherence_of_a_given_text.ipynb\" target=\"_parent\"><img src=\"https://colab.research.google.com/assets/colab-badge.svg\" alt=\"Open In Colab\"/></a>"
      ]
    },
    {
      "cell_type": "code",
      "execution_count": 2,
      "metadata": {
        "colab": {
          "base_uri": "https://localhost:8080/"
        },
        "id": "INRybfpGILUE",
        "outputId": "baaf227b-8c60-4268-fe87-af906b88cdc3"
      },
      "outputs": [
        {
          "output_type": "stream",
          "name": "stderr",
          "text": [
            "[nltk_data] Downloading package punkt to /root/nltk_data...\n",
            "[nltk_data]   Unzipping tokenizers/punkt.zip.\n"
          ]
        },
        {
          "output_type": "execute_result",
          "data": {
            "text/plain": [
              "True"
            ]
          },
          "metadata": {},
          "execution_count": 2
        }
      ],
      "source": [
        "import nltk\n",
        "nltk.download('punkt')"
      ]
    },
    {
      "cell_type": "code",
      "source": [
        "import nltk\n",
        "\n",
        "def calculate_coherence(text):\n",
        "    sentences = nltk.sent_tokenize(text)\n",
        "    coherence_markers = ['however', 'therefore', 'consequently', 'nevertheless', 'furthermore', 'meanwhile', 'although', 'while', 'yet', 'moreover']\n",
        "\n",
        "    total_markers = 0\n",
        "    for sentence in sentences:\n",
        "        tokenized_sentence = nltk.word_tokenize(sentence.lower())\n",
        "        for marker in coherence_markers:\n",
        "            if marker in tokenized_sentence:\n",
        "                total_markers += 1\n",
        "\n",
        "    return total_markers\n",
        "\n",
        "text = \"The weather was terrible. However, they decided to go for a picnic. Therefore, they packed their bags and left.\"\n",
        "\n",
        "coherence_score = calculate_coherence(text)\n",
        "print(f\"Coherence Score: {coherence_score}\")\n"
      ],
      "metadata": {
        "colab": {
          "base_uri": "https://localhost:8080/"
        },
        "id": "1gUY3TcMISiZ",
        "outputId": "4fa13e9b-80ce-48ed-f0e5-51823c711f08"
      },
      "execution_count": 3,
      "outputs": [
        {
          "output_type": "stream",
          "name": "stdout",
          "text": [
            "Coherence Score: 2\n"
          ]
        }
      ]
    }
  ]
}