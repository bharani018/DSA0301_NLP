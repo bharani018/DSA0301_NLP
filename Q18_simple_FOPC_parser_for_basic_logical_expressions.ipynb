{
  "nbformat": 4,
  "nbformat_minor": 0,
  "metadata": {
    "colab": {
      "provenance": [],
      "authorship_tag": "ABX9TyP2zFnEzk8FwwlG/hBnq1AD",
      "include_colab_link": true
    },
    "kernelspec": {
      "name": "python3",
      "display_name": "Python 3"
    },
    "language_info": {
      "name": "python"
    }
  },
  "cells": [
    {
      "cell_type": "markdown",
      "metadata": {
        "id": "view-in-github",
        "colab_type": "text"
      },
      "source": [
        "<a href=\"https://colab.research.google.com/github/bharani018/DSA0301_NLP/blob/main/Q18_simple_FOPC_parser_for_basic_logical_expressions.ipynb\" target=\"_parent\"><img src=\"https://colab.research.google.com/assets/colab-badge.svg\" alt=\"Open In Colab\"/></a>"
      ]
    },
    {
      "cell_type": "code",
      "execution_count": 1,
      "metadata": {
        "colab": {
          "base_uri": "https://localhost:8080/"
        },
        "id": "ZfmMTzNqEBoF",
        "outputId": "749ba055-a758-4db2-8d64-62fe15678eb1"
      },
      "outputs": [
        {
          "output_type": "stream",
          "name": "stdout",
          "text": [
            "[[['P', 'AND', ['Q', 'OR', ['NOT', 'R']]], 'IMPLIES', 'S']]\n"
          ]
        }
      ],
      "source": [
        "from pyparsing import Word, alphas, alphanums, Forward, infixNotation, opAssoc\n",
        "\n",
        "identifier = Word(alphas, alphanums+\"_\")\n",
        "\n",
        "and_op = \"AND\"\n",
        "or_op = \"OR\"\n",
        "implies_op = \"IMPLIES\"\n",
        "not_op = \"NOT\"\n",
        "\n",
        "expr = Forward()\n",
        "atom = identifier | \"(\" + expr + \")\"\n",
        "term = infixNotation(atom, [\n",
        "    (not_op, 1, opAssoc.RIGHT),\n",
        "    (and_op, 2, opAssoc.LEFT),\n",
        "    (or_op, 2, opAssoc.LEFT),\n",
        "    (implies_op, 2, opAssoc.RIGHT),\n",
        "])\n",
        "\n",
        "def parse_expression(expression):\n",
        "    return term.parseString(expression, parseAll=True)\n",
        "\n",
        "logical_expression = \"P AND (Q OR NOT R) IMPLIES S\"\n",
        "parsed_expr = parse_expression(logical_expression)\n",
        "print(parsed_expr)\n"
      ]
    }
  ]
}