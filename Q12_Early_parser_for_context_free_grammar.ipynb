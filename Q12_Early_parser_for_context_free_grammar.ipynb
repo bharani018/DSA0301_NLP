{
  "nbformat": 4,
  "nbformat_minor": 0,
  "metadata": {
    "colab": {
      "provenance": [],
      "authorship_tag": "ABX9TyOpjx4ltvv3kmmlxQ7K98eF",
      "include_colab_link": true
    },
    "kernelspec": {
      "name": "python3",
      "display_name": "Python 3"
    },
    "language_info": {
      "name": "python"
    }
  },
  "cells": [
    {
      "cell_type": "markdown",
      "metadata": {
        "id": "view-in-github",
        "colab_type": "text"
      },
      "source": [
        "<a href=\"https://colab.research.google.com/github/bharani018/DSA0301_NLP/blob/main/Q12_Early_parser_for_context_free_grammar.ipynb\" target=\"_parent\"><img src=\"https://colab.research.google.com/assets/colab-badge.svg\" alt=\"Open In Colab\"/></a>"
      ]
    },
    {
      "cell_type": "code",
      "execution_count": 2,
      "metadata": {
        "colab": {
          "base_uri": "https://localhost:8080/"
        },
        "id": "Z4npxO-LVdLP",
        "outputId": "8f25c844-6b1c-4fc8-99fa-c016e33e0ff6"
      },
      "outputs": [
        {
          "output_type": "stream",
          "name": "stdout",
          "text": [
            "Parsing successful: True\n"
          ]
        }
      ],
      "source": [
        "\n",
        "class EarleyItem:\n",
        "    def __init__(self, production, dot_position, start_column):\n",
        "        self.production = production\n",
        "        self.dot_position = dot_position\n",
        "        self.start_column = start_column\n",
        "\n",
        "def predict(grammar, column, item):\n",
        "    non_terminal = item.production[item.dot_position]\n",
        "    for rule in grammar.get(non_terminal, []):\n",
        "        new_item = EarleyItem(rule, 0, column)\n",
        "        if new_item not in column:\n",
        "            column.append(new_item)\n",
        "\n",
        "def scan(tokens, column, item):\n",
        "    if item.dot_position < len(tokens) and \\\n",
        "       item.production[item.dot_position] == tokens[column]:\n",
        "        new_item = EarleyItem(item.production, item.dot_position + 1, item.start_column)\n",
        "        if new_item not in column:\n",
        "            column.append(new_item)\n",
        "\n",
        "def complete(chart, column, item):\n",
        "    for entry in chart[item.start_column]:\n",
        "        if entry.dot_position < len(entry.production) and \\\n",
        "           entry.production[entry.dot_position] == item.production and \\\n",
        "           EarleyItem(entry.production, entry.dot_position + 1, entry.start_column) not in chart[column]:\n",
        "            chart[column].append(EarleyItem(entry.production, entry.dot_position + 1, entry.start_column))\n",
        "\n",
        "def earley_parse(tokens, grammar):\n",
        "    chart = {i: [] for i in range(len(tokens) + 1)}\n",
        "    start_rule = list(grammar.keys())[0]\n",
        "    chart[0].append(EarleyItem(start_rule, 0, 0))\n",
        "\n",
        "    for column in range(len(tokens) + 1):\n",
        "        for item in chart[column]:\n",
        "            if item.dot_position < len(item.production) and \\\n",
        "               isinstance(item.production[item.dot_position], str):\n",
        "                scan(tokens, column, item)\n",
        "            elif item.dot_position < len(item.production):\n",
        "                predict(grammar, chart[column], item)\n",
        "            else:\n",
        "                complete(chart, column, item)\n",
        "\n",
        "    for item in chart[len(tokens)]:\n",
        "        if item.production == [start_rule] and item.dot_position == 1 and item.start_column == 0:\n",
        "            return False\n",
        "\n",
        "    return True\n",
        "\n",
        "# Example usage:\n",
        "example_grammar = {\n",
        "    'S': [['NP', 'VP']],\n",
        "    'NP': [['Det', 'N']],\n",
        "    'VP': [['V', 'NP']],\n",
        "    'Det': ['the', 'a'],\n",
        "    'N': ['cat', 'dog'],\n",
        "    'V': ['chased', 'ate']\n",
        "}\n",
        "\n",
        "example_tokens = ['the', 'dog', 'chased', 'a', 'cat']\n",
        "\n",
        "result = earley_parse(example_tokens, example_grammar)\n",
        "print(\"Parsing successful:\", result)\n",
        "\n",
        "\n"
      ]
    }
  ]
}