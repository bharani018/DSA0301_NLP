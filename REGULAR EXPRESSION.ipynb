{
  "nbformat": 4,
  "nbformat_minor": 0,
  "metadata": {
    "colab": {
      "provenance": [],
      "authorship_tag": "ABX9TyPXRLzCagzEOKC8Q9r2mLQn",
      "include_colab_link": true
    },
    "kernelspec": {
      "name": "python3",
      "display_name": "Python 3"
    },
    "language_info": {
      "name": "python"
    }
  },
  "cells": [
    {
      "cell_type": "markdown",
      "metadata": {
        "id": "view-in-github",
        "colab_type": "text"
      },
      "source": [
        "<a href=\"https://colab.research.google.com/github/arbazsherief/CSA0302-DATA-STRUCTURES/blob/main/REGULAR%20EXPRESSION.ipynb\" target=\"_parent\"><img src=\"https://colab.research.google.com/assets/colab-badge.svg\" alt=\"Open In Colab\"/></a>"
      ]
    },
    {
      "cell_type": "code",
      "execution_count": 1,
      "metadata": {
        "colab": {
          "base_uri": "https://localhost:8080/"
        },
        "id": "zKZJHJVxhia8",
        "outputId": "edbddf4d-500b-403d-fd78-9b82c6d17756"
      },
      "outputs": [
        {
          "output_type": "stream",
          "name": "stdout",
          "text": [
            "Requirement already satisfied: nltk in /usr/local/lib/python3.10/dist-packages (3.8.1)\n",
            "Requirement already satisfied: click in /usr/local/lib/python3.10/dist-packages (from nltk) (8.1.7)\n",
            "Requirement already satisfied: joblib in /usr/local/lib/python3.10/dist-packages (from nltk) (1.3.2)\n",
            "Requirement already satisfied: regex>=2021.8.3 in /usr/local/lib/python3.10/dist-packages (from nltk) (2023.6.3)\n",
            "Requirement already satisfied: tqdm in /usr/local/lib/python3.10/dist-packages (from nltk) (4.66.1)\n"
          ]
        }
      ],
      "source": [
        "pip install nltk"
      ]
    },
    {
      "cell_type": "code",
      "source": [
        "import re\n",
        "text = \"Email me at john.doe@example.com or visit http://www.example.com for more information.\"\n",
        "email_pattern = r'\\b[A-Za-z0-9._%+-]+@[A-Za-z0-9.-]+\\.[A-Z|a-z]{2,7}\\b'\n",
        "emails = re.findall(email_pattern, text)\n",
        "print(\"Email addresses:\", emails)\n",
        "url_pattern = r'http[s]?://(?:[a-zA-Z]|[0-9]|[$-_@.&+]|[!*\\\\(\\\\),]|(?:%[0-9a-fA-F][0-9a-fA-F]))+'\n",
        "urls = re.findall(url_pattern, text)\n",
        "print(\"URLs:\", urls)\n",
        "text_without_urls = re.sub(url_pattern, 'URL', text)\n",
        "print(\"Text without URLs:\", text_without_urls)\n",
        "word_pattern = r'\\w+'\n",
        "words = re.findall(word_pattern, text)\n",
        "print(\"Words:\", words)\n",
        "search_pattern = r'\\bvisit\\b'\n",
        "matches = re.findall(search_pattern, text)\n",
        "print(\"Occurrences of 'visit':\", len(matches))\n"
      ],
      "metadata": {
        "colab": {
          "base_uri": "https://localhost:8080/"
        },
        "id": "314-KzmvhwXA",
        "outputId": "3a8769d3-0cde-4181-b4bb-46ca07c0ff9a"
      },
      "execution_count": 3,
      "outputs": [
        {
          "output_type": "stream",
          "name": "stdout",
          "text": [
            "Email addresses: ['john.doe@example.com']\n",
            "URLs: ['http://www.example.com']\n",
            "Text without URLs: Email me at john.doe@example.com or visit URL for more information.\n",
            "Words: ['Email', 'me', 'at', 'john', 'doe', 'example', 'com', 'or', 'visit', 'http', 'www', 'example', 'com', 'for', 'more', 'information']\n",
            "Occurrences of 'visit': 1\n"
          ]
        }
      ]
    }
  ]
}