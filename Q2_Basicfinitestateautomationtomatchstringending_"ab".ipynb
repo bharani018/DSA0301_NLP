{
  "nbformat": 4,
  "nbformat_minor": 0,
  "metadata": {
    "colab": {
      "provenance": [],
      "authorship_tag": "ABX9TyOi20zhFa7I3uEu7tDoP6Qt",
      "include_colab_link": true
    },
    "kernelspec": {
      "name": "python3",
      "display_name": "Python 3"
    },
    "language_info": {
      "name": "python"
    }
  },
  "cells": [
    {
      "cell_type": "markdown",
      "metadata": {
        "id": "view-in-github",
        "colab_type": "text"
      },
      "source": [
        "<a href=\"https://colab.research.google.com/github/bharani018/DSA0301_NLP/blob/main/Q2_Basicfinitestateautomationtomatchstringending_%22ab%22.ipynb\" target=\"_parent\"><img src=\"https://colab.research.google.com/assets/colab-badge.svg\" alt=\"Open In Colab\"/></a>"
      ]
    },
    {
      "cell_type": "code",
      "execution_count": 1,
      "metadata": {
        "colab": {
          "base_uri": "https://localhost:8080/"
        },
        "id": "rszmYP6NJSR8",
        "outputId": "6a7a54da-7367-409b-fc87-ff5611f1cbf7"
      },
      "outputs": [
        {
          "output_type": "stream",
          "name": "stdout",
          "text": [
            "String: 'ab' - Match: True\n",
            "String: 'aab' - Match: False\n",
            "String: 'abb' - Match: True\n",
            "String: 'abc' - Match: False\n",
            "String: 'ba' - Match: True\n",
            "String: 'b' - Match: False\n",
            "String: '' - Match: False\n"
          ]
        }
      ],
      "source": [
        "class StringMatcherAutomaton:\n",
        "    def __init__(self):\n",
        "        # Define states\n",
        "        self.initial_state = 'q0'\n",
        "        self.accepting_state = 'q1'\n",
        "        self.current_state = self.initial_state\n",
        "\n",
        "    def transition(self, char):\n",
        "        # Define transitions\n",
        "        if self.current_state == 'q0' and char == 'a':\n",
        "            self.current_state = 'q1'\n",
        "        elif self.current_state == 'q1' and char == 'b':\n",
        "            self.current_state = 'q1'\n",
        "        else:\n",
        "            self.current_state = 'q0'\n",
        "\n",
        "    def process_string(self, input_string):\n",
        "        # Reset the current state to the initial state for each string\n",
        "        self.current_state = self.initial_state\n",
        "\n",
        "        # Process the input string character by character\n",
        "        for char in input_string:\n",
        "            self.transition(char)\n",
        "\n",
        "        # Check if the final state is the accepting state\n",
        "        return self.current_state == self.accepting_state\n",
        "\n",
        "\n",
        "def main():\n",
        "    # Create an instance of the StringMatcherAutomaton\n",
        "    automaton = StringMatcherAutomaton()\n",
        "\n",
        "    # Test the automaton with various strings\n",
        "    test_strings = ['ab', 'aab', 'abb', 'abc', 'ba', 'b', '']\n",
        "    for test_string in test_strings:\n",
        "        result = automaton.process_string(test_string)\n",
        "        print(f\"String: '{test_string}' - Match: {result}\")\n",
        "\n",
        "\n",
        "if __name__ == \"__main__\":\n",
        "    main()"
      ]
    }
  ]
}