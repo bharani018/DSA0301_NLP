{
  "nbformat": 4,
  "nbformat_minor": 0,
  "metadata": {
    "colab": {
      "provenance": [],
      "authorship_tag": "ABX9TyPAIhcPfs7aSDlI6LG31SBV",
      "include_colab_link": true
    },
    "kernelspec": {
      "name": "python3",
      "display_name": "Python 3"
    },
    "language_info": {
      "name": "python"
    }
  },
  "cells": [
    {
      "cell_type": "markdown",
      "metadata": {
        "id": "view-in-github",
        "colab_type": "text"
      },
      "source": [
        "<a href=\"https://colab.research.google.com/github/bharani018/DSA0301_NLP/blob/main/Q6_Basic_Ngram_model_for_text_generation.ipynb\" target=\"_parent\"><img src=\"https://colab.research.google.com/assets/colab-badge.svg\" alt=\"Open In Colab\"/></a>"
      ]
    },
    {
      "cell_type": "code",
      "source": [
        "import random\n",
        "import nltk\n",
        "nltk.download('punkt')\n",
        "text = \"This is a simple example of a bigram model. Text generation using bigrams is fun and educational.\"\n",
        "\n",
        "words = nltk.word_tokenize(text)\n",
        "\n",
        "bigrams = list(nltk.bigrams(words))\n",
        "\n",
        "\n",
        "bigram_model = {}\n",
        "for w1, w2 in bigrams:\n",
        "    if w1 in bigram_model:\n",
        "        bigram_model[w1].append(w2)\n",
        "    else:\n",
        "        bigram_model[w1] = [w2]\n",
        "\n",
        "start_word = random.choice(words)\n",
        "generated_text = [start_word]\n",
        "\n",
        "for _ in range(20):\n",
        "    next_word = random.choice(bigram_model.get(generated_text[-1], [\".\"]))\n",
        "    if next_word == \".\":\n",
        "        break\n",
        "    generated_text.append(next_word)\n",
        "\n",
        "generated_text = \" \".join(generated_text)\n",
        "print(generated_text)\n"
      ],
      "metadata": {
        "colab": {
          "base_uri": "https://localhost:8080/"
        },
        "id": "sR4qrCFcMadp",
        "outputId": "7a8771af-678a-45f1-e35a-54755010672d"
      },
      "execution_count": 2,
      "outputs": [
        {
          "output_type": "stream",
          "name": "stderr",
          "text": [
            "[nltk_data] Downloading package punkt to /root/nltk_data...\n",
            "[nltk_data]   Unzipping tokenizers/punkt.zip.\n"
          ]
        },
        {
          "output_type": "stream",
          "name": "stdout",
          "text": [
            "simple example of a simple example of a bigram model\n"
          ]
        }
      ]
    }
  ]
}