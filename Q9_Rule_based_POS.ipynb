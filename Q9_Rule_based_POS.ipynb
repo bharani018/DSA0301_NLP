{
  "nbformat": 4,
  "nbformat_minor": 0,
  "metadata": {
    "colab": {
      "provenance": [],
      "authorship_tag": "ABX9TyMnqXPnrLwH9hfvHJeYLj8i",
      "include_colab_link": true
    },
    "kernelspec": {
      "name": "python3",
      "display_name": "Python 3"
    },
    "language_info": {
      "name": "python"
    }
  },
  "cells": [
    {
      "cell_type": "markdown",
      "metadata": {
        "id": "view-in-github",
        "colab_type": "text"
      },
      "source": [
        "<a href=\"https://colab.research.google.com/github/bharani018/DSA0301_NLP/blob/main/Q9_Rule_based_POS.ipynb\" target=\"_parent\"><img src=\"https://colab.research.google.com/assets/colab-badge.svg\" alt=\"Open In Colab\"/></a>"
      ]
    },
    {
      "cell_type": "code",
      "source": [
        "import re\n",
        "tagging_rules = [\n",
        "    (r'\\b[Aa]pple\\b', 'NN'),\n",
        "    (r'\\b[0-9]+\\b', 'CD'),\n",
        "    (r'\\b[A-Z][a-z]*\\b', 'NNP'),\n",
        "    (r'\\b\\w+ing\\b', 'VBG'),\n",
        "    (r'\\b\\w+ed\\b', 'VBD'),\n",
        "    (r'\\b\\w+s\\b', 'NNS'),\n",
        "    (r'\\b\\w+ly\\b', 'RB'),\n",
        "    (r'\\b\\w+\\b', 'NN')\n",
        "]\n",
        "def rule_based_pos_tagger(sentence):\n",
        "    tagged_sentence = []\n",
        "    for word in sentence:\n",
        "        pos_tag = None\n",
        "        for pattern, tag in tagging_rules:\n",
        "            if re.search(pattern, word):\n",
        "                pos_tag = tag\n",
        "                break\n",
        "        if not pos_tag:\n",
        "            pos_tag = 'NN'\n",
        "        tagged_sentence.append((word, pos_tag))\n",
        "    return tagged_sentence\n",
        "test_sentence = ['I', 'ate', 'an', 'apple', 'yesterday']\n",
        "pos_tags = rule_based_pos_tagger(test_sentence)\n",
        "print(pos_tags)"
      ],
      "metadata": {
        "colab": {
          "base_uri": "https://localhost:8080/"
        },
        "id": "4mAHrZ7pT-p0",
        "outputId": "4b7b75a2-3c43-4efa-f012-a4572f219b28"
      },
      "execution_count": 2,
      "outputs": [
        {
          "output_type": "stream",
          "name": "stdout",
          "text": [
            "[('I', 'NNP'), ('ate', 'NN'), ('an', 'NN'), ('apple', 'NN'), ('yesterday', 'NN')]\n"
          ]
        }
      ]
    }
  ]
}