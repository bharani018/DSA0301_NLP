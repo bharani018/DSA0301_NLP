{
  "nbformat": 4,
  "nbformat_minor": 0,
  "metadata": {
    "colab": {
      "provenance": [],
      "authorship_tag": "ABX9TyN10mt54v2XmHk6rwqWE0FM",
      "include_colab_link": true
    },
    "kernelspec": {
      "name": "python3",
      "display_name": "Python 3"
    },
    "language_info": {
      "name": "python"
    }
  },
  "cells": [
    {
      "cell_type": "markdown",
      "metadata": {
        "id": "view-in-github",
        "colab_type": "text"
      },
      "source": [
        "<a href=\"https://colab.research.google.com/github/bharani018/DSA0301_NLP/blob/main/Q7_parts_of_speech_tagging_on_text.ipynb\" target=\"_parent\"><img src=\"https://colab.research.google.com/assets/colab-badge.svg\" alt=\"Open In Colab\"/></a>"
      ]
    },
    {
      "cell_type": "code",
      "execution_count": 1,
      "metadata": {
        "colab": {
          "base_uri": "https://localhost:8080/"
        },
        "id": "ctJnWCKrNIFY",
        "outputId": "0797d95b-0406-47d8-d357-5921a6ff22ac"
      },
      "outputs": [
        {
          "output_type": "stream",
          "name": "stderr",
          "text": [
            "[nltk_data] Downloading package punkt to /root/nltk_data...\n",
            "[nltk_data]   Unzipping tokenizers/punkt.zip.\n",
            "[nltk_data] Downloading package averaged_perceptron_tagger to\n",
            "[nltk_data]     /root/nltk_data...\n",
            "[nltk_data]   Unzipping taggers/averaged_perceptron_tagger.zip.\n"
          ]
        },
        {
          "output_type": "stream",
          "name": "stdout",
          "text": [
            "Word: The, POS Tag: DT\n",
            "Word: quick, POS Tag: JJ\n",
            "Word: brown, POS Tag: NN\n",
            "Word: fox, POS Tag: NN\n",
            "Word: jumps, POS Tag: VBZ\n",
            "Word: over, POS Tag: IN\n",
            "Word: the, POS Tag: DT\n",
            "Word: lazy, POS Tag: JJ\n",
            "Word: dog, POS Tag: NN\n"
          ]
        }
      ],
      "source": [
        "\n",
        "import nltk\n",
        "nltk.download('punkt')\n",
        "nltk.download('averaged_perceptron_tagger')\n",
        "import nltk\n",
        "text = \"The quick brown fox jumps over the lazy dog\"\n",
        "words = nltk.word_tokenize(text)\n",
        "pos_tags = nltk.pos_tag(words)\n",
        "for word, pos_tag in pos_tags:\n",
        "    print(f\"Word: {word}, POS Tag: {pos_tag}\")\n"
      ]
    }
  ]
}