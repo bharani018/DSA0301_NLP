{
  "nbformat": 4,
  "nbformat_minor": 0,
  "metadata": {
    "colab": {
      "provenance": [],
      "authorship_tag": "ABX9TyMI2TCcQ24PLca44AXirLoK",
      "include_colab_link": true
    },
    "kernelspec": {
      "name": "python3",
      "display_name": "Python 3"
    },
    "language_info": {
      "name": "python"
    }
  },
  "cells": [
    {
      "cell_type": "markdown",
      "metadata": {
        "id": "view-in-github",
        "colab_type": "text"
      },
      "source": [
        "<a href=\"https://colab.research.google.com/github/bharani018/DSA0301_NLP/blob/main/EARLY_PARSING.ipynb\" target=\"_parent\"><img src=\"https://colab.research.google.com/assets/colab-badge.svg\" alt=\"Open In Colab\"/></a>"
      ]
    },
    {
      "cell_type": "code",
      "execution_count": null,
      "metadata": {
        "id": "Pwi9KoVKjfwe"
      },
      "outputs": [],
      "source": []
    },
    {
      "cell_type": "code",
      "source": [
        "word_features = {\n",
        "    \"category\": \"Noun\", 'person':'3rd',\n",
        "    'number':'singular'\n",
        "}\n",
        "for feature, value in word_features.items():\n",
        "  print(f\"{feature}:{value}\")\n",
        "another_word_feature = {\n",
        "    'category':'verb',\n",
        "    'person':'1st',\n",
        "    'number':'singular'\n",
        "}\n",
        "for feature,value in another_word_feature.items():\n",
        "  print(f'{feature}:{value}')"
      ],
      "metadata": {
        "colab": {
          "base_uri": "https://localhost:8080/"
        },
        "id": "5_eN8LWvjQm6",
        "outputId": "3c38ba19-da07-42e2-ed9b-53b84df00aa2"
      },
      "execution_count": null,
      "outputs": [
        {
          "output_type": "stream",
          "name": "stdout",
          "text": [
            "category:Noun\n",
            "person:3rd\n",
            "number:singular\n",
            "category:verb\n",
            "person:1st\n",
            "number:singular\n"
          ]
        }
      ]
    },
    {
      "cell_type": "code",
      "source": [],
      "metadata": {
        "id": "6Tq6jEdHmCbt"
      },
      "execution_count": null,
      "outputs": []
    }
  ]
}