{
  "nbformat": 4,
  "nbformat_minor": 0,
  "metadata": {
    "colab": {
      "provenance": [],
      "authorship_tag": "ABX9TyNGwplDsun5a/M8gN2A5+Rj",
      "include_colab_link": true
    },
    "kernelspec": {
      "name": "python3",
      "display_name": "Python 3"
    },
    "language_info": {
      "name": "python"
    }
  },
  "cells": [
    {
      "cell_type": "markdown",
      "metadata": {
        "id": "view-in-github",
        "colab_type": "text"
      },
      "source": [
        "<a href=\"https://colab.research.google.com/github/bharani018/DSA0301_NLP/blob/main/Q11_Simple_top_down_parser_for_context_free_grammar.ipynb\" target=\"_parent\"><img src=\"https://colab.research.google.com/assets/colab-badge.svg\" alt=\"Open In Colab\"/></a>"
      ]
    },
    {
      "cell_type": "code",
      "execution_count": 1,
      "metadata": {
        "colab": {
          "base_uri": "https://localhost:8080/"
        },
        "id": "KGXQxClTU_Z4",
        "outputId": "357a0d87-0476-41ef-b286-a41eb2d9d507"
      },
      "outputs": [
        {
          "output_type": "stream",
          "name": "stdout",
          "text": [
            "Result: 60\n"
          ]
        }
      ],
      "source": [
        "class Parser:\n",
        "    def __init__(self, tokens):\n",
        "        self.tokens = tokens\n",
        "        self.current_token = None\n",
        "        self.index = -1\n",
        "        self.advance()\n",
        "\n",
        "    def advance(self):\n",
        "        self.index += 1\n",
        "        if self.index < len(self.tokens):\n",
        "            self.current_token = self.tokens[self.index]\n",
        "        else:\n",
        "            self.current_token = None\n",
        "\n",
        "    def parse(self):\n",
        "        return self.expr()\n",
        "\n",
        "    def expr(self):\n",
        "        result = self.term()\n",
        "\n",
        "        while self.current_token in ('+', '-'):\n",
        "            operator = self.current_token\n",
        "            self.advance()\n",
        "            right = self.term()\n",
        "            if operator == '+':\n",
        "                result += right\n",
        "            elif operator == '-':\n",
        "                result -= right\n",
        "\n",
        "        return result\n",
        "\n",
        "    def term(self):\n",
        "        result = self.factor()\n",
        "\n",
        "        while self.current_token in ('*', '/'):\n",
        "            operator = self.current_token\n",
        "            self.advance()\n",
        "            right = self.factor()\n",
        "            if operator == '*':\n",
        "                result *= right\n",
        "            elif operator == '/':\n",
        "                if right == 0:\n",
        "                    raise ZeroDivisionError(\"Division by zero\")\n",
        "                result /= right\n",
        "\n",
        "        return result\n",
        "\n",
        "    def factor(self):\n",
        "        token = self.current_token\n",
        "        self.advance()\n",
        "\n",
        "        if token == '(':\n",
        "            result = self.expr()\n",
        "            if self.current_token != ')':\n",
        "                raise SyntaxError(\"Expected closing parenthesis\")\n",
        "            self.advance()\n",
        "            return result\n",
        "        elif token.isdigit():\n",
        "            return int(token)\n",
        "        else:\n",
        "            raise SyntaxError(\"Invalid syntax\")\n",
        "\n",
        "\n",
        "def parse_input(input_string):\n",
        "    tokens = input_string.replace(' ', '').replace('\\t', '').split(',')\n",
        "    parser = Parser(tokens)\n",
        "    return parser.parse()\n",
        "\n",
        "input_string = '5, *, (, 3, +, 7,), +, 10'\n",
        "result = parse_input(input_string)\n",
        "print(f\"Result: {result}\")\n",
        "\n",
        ""
      ]
    }
  ]
}