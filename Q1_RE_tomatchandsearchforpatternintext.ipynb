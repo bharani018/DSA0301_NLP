{
  "nbformat": 4,
  "nbformat_minor": 0,
  "metadata": {
    "colab": {
      "provenance": [],
      "authorship_tag": "ABX9TyMu6TIos8PGTNJWA93rYGVH",
      "include_colab_link": true
    },
    "kernelspec": {
      "name": "python3",
      "display_name": "Python 3"
    },
    "language_info": {
      "name": "python"
    }
  },
  "cells": [
    {
      "cell_type": "markdown",
      "metadata": {
        "id": "view-in-github",
        "colab_type": "text"
      },
      "source": [
        "<a href=\"https://colab.research.google.com/github/bharani018/DSA0301_NLP/blob/main/Q1_RE_tomatchandsearchforpatternintext.ipynb\" target=\"_parent\"><img src=\"https://colab.research.google.com/assets/colab-badge.svg\" alt=\"Open In Colab\"/></a>"
      ]
    },
    {
      "cell_type": "code",
      "source": [
        "import re\n",
        "\n",
        "def main():\n",
        "    text = \"Hello, my email addresses are bharanikumar@gmail.com and bharani@google.com Feel free to contact me!\"\n",
        "\n",
        "    email_pattern = r'\\b[A-Za-z0-9._%+-]+@[A-Za-z0-9.-]+\\.[A-Z|a-z]{2,}\\b'\n",
        "\n",
        "    matches = re.findall(email_pattern, text)\n",
        "\n",
        "    if matches:\n",
        "        print(\"Found email addresses:\")\n",
        "        for match in matches:\n",
        "            print(match)\n",
        "    else:\n",
        "        print(\"No email addresses found.\")\n",
        "\n",
        "    search_result = re.search(email_pattern, text)\n",
        "    if search_result:\n",
        "        print(\"\\nFirst email address found:\")\n",
        "        print(search_result.group())\n",
        "        print(\"Start position:\", search_result.start())\n",
        "        print(\"End position:\", search_result.end())\n",
        "    else:\n",
        "        print(\"\\nNo email address found in the first search.\")\n",
        "\n",
        "if __name__ == \"__main__\":\n",
        "    main()"
      ],
      "metadata": {
        "colab": {
          "base_uri": "https://localhost:8080/"
        },
        "id": "-46lnIFsIgpr",
        "outputId": "38c080e1-7a98-4ab8-b4c2-b4eaf39a990c"
      },
      "execution_count": 10,
      "outputs": [
        {
          "output_type": "stream",
          "name": "stdout",
          "text": [
            "Found email addresses:\n",
            "bharanikumar@gmail.com\n",
            "bharani@google.com\n",
            "\n",
            "First email address found:\n",
            "bharanikumar@gmail.com\n",
            "Start position: 30\n",
            "End position: 52\n"
          ]
        }
      ]
    }
  ]
}