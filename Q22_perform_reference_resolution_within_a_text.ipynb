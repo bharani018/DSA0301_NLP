{
  "nbformat": 4,
  "nbformat_minor": 0,
  "metadata": {
    "colab": {
      "provenance": [],
      "authorship_tag": "ABX9TyO2dy9Y55ao2AeB0upcd0pN",
      "include_colab_link": true
    },
    "kernelspec": {
      "name": "python3",
      "display_name": "Python 3"
    },
    "language_info": {
      "name": "python"
    }
  },
  "cells": [
    {
      "cell_type": "markdown",
      "metadata": {
        "id": "view-in-github",
        "colab_type": "text"
      },
      "source": [
        "<a href=\"https://colab.research.google.com/github/bharani018/DSA0301_NLP/blob/main/Q22_perform_reference_resolution_within_a_text.ipynb\" target=\"_parent\"><img src=\"https://colab.research.google.com/assets/colab-badge.svg\" alt=\"Open In Colab\"/></a>"
      ]
    },
    {
      "cell_type": "code",
      "execution_count": 1,
      "metadata": {
        "colab": {
          "base_uri": "https://localhost:8080/"
        },
        "id": "lP9uwvYIHZ6x",
        "outputId": "ce321749-ec70-4bc6-c929-b121402a39b7"
      },
      "outputs": [
        {
          "output_type": "stream",
          "name": "stderr",
          "text": [
            "[nltk_data] Downloading package punkt to /root/nltk_data...\n",
            "[nltk_data]   Unzipping tokenizers/punkt.zip.\n",
            "[nltk_data] Downloading package averaged_perceptron_tagger to\n",
            "[nltk_data]     /root/nltk_data...\n",
            "[nltk_data]   Unzipping taggers/averaged_perceptron_tagger.zip.\n"
          ]
        },
        {
          "output_type": "execute_result",
          "data": {
            "text/plain": [
              "True"
            ]
          },
          "metadata": {},
          "execution_count": 1
        }
      ],
      "source": [
        "import nltk\n",
        "nltk.download('punkt')\n",
        "nltk.download('averaged_perceptron_tagger')"
      ]
    },
    {
      "cell_type": "code",
      "source": [
        "import nltk\n",
        "\n",
        "def resolve_references(text):\n",
        "    sentences = nltk.sent_tokenize(text)\n",
        "    tokenized_sentences = [nltk.word_tokenize(sentence) for sentence in sentences]\n",
        "    tagged_sentences = [nltk.pos_tag(sentence) for sentence in tokenized_sentences]\n",
        "\n",
        "    resolved_text = []\n",
        "    pronouns = set(['he', 'him', 'his', 'she', 'her', 'it', 'they', 'them', 'their'])\n",
        "\n",
        "    for tagged_sentence in tagged_sentences:\n",
        "        resolved_sentence = []\n",
        "        for word, pos in tagged_sentence:\n",
        "            if word.lower() in pronouns and len(resolved_sentence) > 0:\n",
        "                antecedent = resolved_sentence[-1]\n",
        "                resolved_sentence.append(f'({word} -> {antecedent})')\n",
        "            else:\n",
        "                resolved_sentence.append(word)\n",
        "        resolved_text.append(' '.join(resolved_sentence))\n",
        "\n",
        "    return ' '.join(resolved_text)\n",
        "\n",
        "text = \"John went to the market and He bought some fruits.\"\n",
        "\n",
        "resolved_text = resolve_references(text)\n",
        "print(resolved_text)\n"
      ],
      "metadata": {
        "colab": {
          "base_uri": "https://localhost:8080/"
        },
        "id": "tKsmqZWzHvTc",
        "outputId": "e9f2f1cd-51bc-42b9-f279-a7a680ee3250"
      },
      "execution_count": 2,
      "outputs": [
        {
          "output_type": "stream",
          "name": "stdout",
          "text": [
            "John went to the market and (He -> and) bought some fruits .\n"
          ]
        }
      ]
    }
  ]
}