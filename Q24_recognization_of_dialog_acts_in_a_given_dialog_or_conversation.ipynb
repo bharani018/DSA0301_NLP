{
  "nbformat": 4,
  "nbformat_minor": 0,
  "metadata": {
    "colab": {
      "provenance": [],
      "authorship_tag": "ABX9TyM4ta8XsiuSNuF3xckaAUqG",
      "include_colab_link": true
    },
    "kernelspec": {
      "name": "python3",
      "display_name": "Python 3"
    },
    "language_info": {
      "name": "python"
    }
  },
  "cells": [
    {
      "cell_type": "markdown",
      "metadata": {
        "id": "view-in-github",
        "colab_type": "text"
      },
      "source": [
        "<a href=\"https://colab.research.google.com/github/bharani018/DSA0301_NLP/blob/main/Q24_recognization_of_dialog_acts_in_a_given_dialog_or_conversation.ipynb\" target=\"_parent\"><img src=\"https://colab.research.google.com/assets/colab-badge.svg\" alt=\"Open In Colab\"/></a>"
      ]
    },
    {
      "cell_type": "code",
      "execution_count": 1,
      "metadata": {
        "colab": {
          "base_uri": "https://localhost:8080/"
        },
        "id": "-heygAMKIytd",
        "outputId": "555ed2d2-021e-4080-e3a9-09d2ffeee630"
      },
      "outputs": [
        {
          "output_type": "stream",
          "name": "stdout",
          "text": [
            "Utterance: 'Hi', Dialog Act: Greeting\n",
            "Utterance: 'How are you', Dialog Act: Other\n",
            "Utterance: 'I'm fine, thank you', Dialog Act: Other\n",
            "Utterance: 'Can you pass the salt, please', Dialog Act: Request\n",
            "Utterance: '', Dialog Act: Other\n"
          ]
        }
      ],
      "source": [
        "import re\n",
        "\n",
        "def recognize_dialog_acts(text):\n",
        "\n",
        "    statements = re.compile(r'^[^?!.]*[.?!]$')\n",
        "    questions = re.compile(r'.*\\?$')\n",
        "    greetings = re.compile(r'(hello|hi|hey).*', re.IGNORECASE)\n",
        "    requests = re.compile(r'(please|can you|could you).*', re.IGNORECASE)\n",
        "\n",
        "    utterances = re.split(r'[.?!]', text)\n",
        "\n",
        "    dialog_acts = []\n",
        "    for utterance in utterances:\n",
        "        utterance = utterance.strip()\n",
        "        if re.match(statements, utterance):\n",
        "            dialog_acts.append((utterance, 'Statement'))\n",
        "        elif re.match(questions, utterance):\n",
        "            dialog_acts.append((utterance, 'Question'))\n",
        "        elif re.match(greetings, utterance):\n",
        "            dialog_acts.append((utterance, 'Greeting'))\n",
        "        elif re.match(requests, utterance):\n",
        "            dialog_acts.append((utterance, 'Request'))\n",
        "        else:\n",
        "            dialog_acts.append((utterance, 'Other'))\n",
        "\n",
        "    return dialog_acts\n",
        "\n",
        "conversation = \"Hi! How are you? I'm fine, thank you. Can you pass the salt, please?\"\n",
        "\n",
        "recognized_acts = recognize_dialog_acts(conversation)\n",
        "for utterance, act_type in recognized_acts:\n",
        "    print(f\"Utterance: '{utterance}', Dialog Act: {act_type}\")\n"
      ]
    }
  ]
}