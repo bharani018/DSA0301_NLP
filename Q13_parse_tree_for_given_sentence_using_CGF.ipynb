{
  "nbformat": 4,
  "nbformat_minor": 0,
  "metadata": {
    "colab": {
      "provenance": [],
      "authorship_tag": "ABX9TyO5V3+fd0bcx9liEDYewLuV",
      "include_colab_link": true
    },
    "kernelspec": {
      "name": "python3",
      "display_name": "Python 3"
    },
    "language_info": {
      "name": "python"
    }
  },
  "cells": [
    {
      "cell_type": "markdown",
      "metadata": {
        "id": "view-in-github",
        "colab_type": "text"
      },
      "source": [
        "<a href=\"https://colab.research.google.com/github/bharani018/DSA0301_NLP/blob/main/Q13_parse_tree_for_given_sentence_using_CGF.ipynb\" target=\"_parent\"><img src=\"https://colab.research.google.com/assets/colab-badge.svg\" alt=\"Open In Colab\"/></a>"
      ]
    },
    {
      "cell_type": "code",
      "execution_count": 1,
      "metadata": {
        "colab": {
          "base_uri": "https://localhost:8080/"
        },
        "id": "pBxCpRrNWI1E",
        "outputId": "df717680-7744-4739-f711-1fe5d7c7bc98"
      },
      "outputs": [
        {
          "output_type": "stream",
          "name": "stdout",
          "text": [
            "Collecting lark\n",
            "  Downloading lark-1.1.8-py3-none-any.whl (111 kB)\n",
            "\u001b[2K     \u001b[90m━━━━━━━━━━━━━━━━━━━━━━━━━━━━━━━━━━━━━━━━\u001b[0m \u001b[32m111.6/111.6 kB\u001b[0m \u001b[31m2.8 MB/s\u001b[0m eta \u001b[36m0:00:00\u001b[0m\n",
            "\u001b[?25hInstalling collected packages: lark\n",
            "Successfully installed lark-1.1.8\n"
          ]
        }
      ],
      "source": [
        "pip install lark"
      ]
    },
    {
      "cell_type": "code",
      "source": [
        "from lark import Lark\n",
        "\n",
        "grammar = '''\n",
        "    start: sentence\n",
        "    sentence: \"the\" WS noun WS \"is\" WS adjective\n",
        "    noun: \"cat\" | \"dog\" | \"bird\"\n",
        "    adjective: \"happy\" | \"sad\" | \"hungry\"\n",
        "    %import common.WS\n",
        "    %ignore WS\n",
        "'''\n",
        "\n",
        "parser = Lark(grammar, start='start')\n",
        "sentence = \"the cat is happy\"\n",
        "tree = parser.parse(sentence)\n",
        "print(tree.pretty())"
      ],
      "metadata": {
        "colab": {
          "base_uri": "https://localhost:8080/"
        },
        "id": "jg6i92BHWVa6",
        "outputId": "e393a6cc-81ee-4cfa-84d5-d8a3ec75675a"
      },
      "execution_count": 2,
      "outputs": [
        {
          "output_type": "stream",
          "name": "stdout",
          "text": [
            "start\n",
            "  sentence\n",
            "     \n",
            "    noun\n",
            "     \n",
            "     \n",
            "    adjective\n",
            "\n"
          ]
        }
      ]
    }
  ]
}