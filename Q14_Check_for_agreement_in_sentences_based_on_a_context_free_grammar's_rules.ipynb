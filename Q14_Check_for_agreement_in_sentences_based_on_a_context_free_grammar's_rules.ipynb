{
  "nbformat": 4,
  "nbformat_minor": 0,
  "metadata": {
    "colab": {
      "provenance": [],
      "authorship_tag": "ABX9TyM4lfPmx/MeLuTE42Uan2tP",
      "include_colab_link": true
    },
    "kernelspec": {
      "name": "python3",
      "display_name": "Python 3"
    },
    "language_info": {
      "name": "python"
    }
  },
  "cells": [
    {
      "cell_type": "markdown",
      "metadata": {
        "id": "view-in-github",
        "colab_type": "text"
      },
      "source": [
        "<a href=\"https://colab.research.google.com/github/bharani018/DSA0301_NLP/blob/main/Q14_Check_for_agreement_in_sentences_based_on_a_context_free_grammar's_rules.ipynb\" target=\"_parent\"><img src=\"https://colab.research.google.com/assets/colab-badge.svg\" alt=\"Open In Colab\"/></a>"
      ]
    },
    {
      "cell_type": "code",
      "execution_count": null,
      "metadata": {
        "id": "KqMTDe0UX1v6"
      },
      "outputs": [],
      "source": [
        "\n",
        "\n",
        "class AgreementChecker:\n",
        "    def __init__(self, grammar):\n",
        "        self.grammar = grammar\n",
        "\n",
        "    def check_subject_verb_agreement(self, subject, verb):\n",
        "        rules = self.grammar.get(\"S-V Agreement\", [])\n",
        "        for rule in rules:\n",
        "            if rule[0] == subject and rule[1] == verb:\n",
        "                return True\n",
        "        return False\n",
        "\n",
        "grammar = {\n",
        "    \"S-V Agreement\": [\n",
        "        [\"dog\", \"barks\"],\n",
        "        [\"dogs\", \"bark\"],\n",
        "        [\"cat\", \"meows\"],\n",
        "        [\"cats\", \"meow\"]\n",
        "\n",
        "    ]\n",
        "}\n",
        "\n",
        "agreement_checker = AgreementChecker(grammar)\n",
        "\n",
        "subject = \"dog\"\n",
        "verb = \"barks\"\n",
        "is_agree = agreement_checker.check_subject_verb_agreement(subject, verb)\n",
        "\n",
        "if is_agree:\n",
        "    print(f\"The subject '{subject}' and verb '{verb}' agree.\")\n",
        "else:\n",
        "    print(f\"The subject '{subject}' and verb '{verb}' do not agree.\")\n",
        "\n",
        "\n"
      ]
    }
  ]
}