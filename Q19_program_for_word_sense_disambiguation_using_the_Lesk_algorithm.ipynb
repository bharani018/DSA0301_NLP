{
  "nbformat": 4,
  "nbformat_minor": 0,
  "metadata": {
    "colab": {
      "provenance": [],
      "authorship_tag": "ABX9TyNy6EearWcLqHkgisM4qAOB",
      "include_colab_link": true
    },
    "kernelspec": {
      "name": "python3",
      "display_name": "Python 3"
    },
    "language_info": {
      "name": "python"
    }
  },
  "cells": [
    {
      "cell_type": "markdown",
      "metadata": {
        "id": "view-in-github",
        "colab_type": "text"
      },
      "source": [
        "<a href=\"https://colab.research.google.com/github/bharani018/DSA0301_NLP/blob/main/Q19_program_for_word_sense_disambiguation_using_the_Lesk_algorithm.ipynb\" target=\"_parent\"><img src=\"https://colab.research.google.com/assets/colab-badge.svg\" alt=\"Open In Colab\"/></a>"
      ]
    },
    {
      "cell_type": "code",
      "source": [
        "import nltk\n",
        "nltk.download('punkt')\n",
        "nltk.download('stopwords')\n",
        "nltk.download('wordnet')"
      ],
      "metadata": {
        "colab": {
          "base_uri": "https://localhost:8080/"
        },
        "id": "KSf3sWpaEu46",
        "outputId": "4c37e8fa-5780-4e69-87b7-7cfa18d79d70"
      },
      "execution_count": 2,
      "outputs": [
        {
          "output_type": "stream",
          "name": "stderr",
          "text": [
            "[nltk_data] Downloading package punkt to /root/nltk_data...\n",
            "[nltk_data]   Unzipping tokenizers/punkt.zip.\n",
            "[nltk_data] Downloading package stopwords to /root/nltk_data...\n",
            "[nltk_data]   Unzipping corpora/stopwords.zip.\n",
            "[nltk_data] Downloading package wordnet to /root/nltk_data...\n"
          ]
        },
        {
          "output_type": "execute_result",
          "data": {
            "text/plain": [
              "True"
            ]
          },
          "metadata": {},
          "execution_count": 2
        }
      ]
    },
    {
      "cell_type": "code",
      "execution_count": 3,
      "metadata": {
        "colab": {
          "base_uri": "https://localhost:8080/"
        },
        "id": "Z60izGMREes0",
        "outputId": "e8501009-6a5f-40f4-9d2d-7676ea0cda1b"
      },
      "outputs": [
        {
          "output_type": "stream",
          "name": "stdout",
          "text": [
            "Target word: bank\n",
            "Best sense: depository_financial_institution.n.01 - Definition: a financial institution that accepts deposits and channels the money into lending activities\n"
          ]
        }
      ],
      "source": [
        "import nltk\n",
        "from nltk.corpus import wordnet\n",
        "from nltk.tokenize import word_tokenize\n",
        "from nltk.corpus import stopwords\n",
        "\n",
        "def lesk_algorithm(word, sentence):\n",
        "    best_sense = None\n",
        "    max_overlap = 0\n",
        "\n",
        "    word = word.lower()\n",
        "    context = set(word_tokenize(sentence.lower()))\n",
        "    context = context.difference(set(stopwords.words('english')))\n",
        "\n",
        "    synsets = wordnet.synsets(word)\n",
        "    for sense in synsets:\n",
        "        signature = set(word_tokenize(sense.definition()))\n",
        "        signature = signature.union(set([word.lower() for word in sense.lemma_names()]))\n",
        "\n",
        "        overlap = len(context.intersection(signature))\n",
        "\n",
        "        if overlap > max_overlap:\n",
        "            max_overlap = overlap\n",
        "            best_sense = sense\n",
        "\n",
        "    return best_sense\n",
        "\n",
        "sentence = \"I went to the bank to deposit money.\"\n",
        "target_word = \"bank\"\n",
        "\n",
        "sense = lesk_algorithm(target_word, sentence)\n",
        "\n",
        "if sense:\n",
        "    print(f\"Target word: {target_word}\")\n",
        "    print(f\"Best sense: {sense.name()} - Definition: {sense.definition()}\")\n",
        "else:\n",
        "    print(f\"No suitable sense found for '{target_word}' in the context of the sentence.\")\n"
      ]
    }
  ]
}