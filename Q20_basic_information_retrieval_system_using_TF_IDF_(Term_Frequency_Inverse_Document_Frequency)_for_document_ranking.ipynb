{
  "nbformat": 4,
  "nbformat_minor": 0,
  "metadata": {
    "colab": {
      "provenance": [],
      "authorship_tag": "ABX9TyPL0tHdmOtWqliXJeCoRPjX",
      "include_colab_link": true
    },
    "kernelspec": {
      "name": "python3",
      "display_name": "Python 3"
    },
    "language_info": {
      "name": "python"
    }
  },
  "cells": [
    {
      "cell_type": "markdown",
      "metadata": {
        "id": "view-in-github",
        "colab_type": "text"
      },
      "source": [
        "<a href=\"https://colab.research.google.com/github/bharani018/DSA0301_NLP/blob/main/Q20_basic_information_retrieval_system_using_TF_IDF_(Term_Frequency_Inverse_Document_Frequency)_for_document_ranking.ipynb\" target=\"_parent\"><img src=\"https://colab.research.google.com/assets/colab-badge.svg\" alt=\"Open In Colab\"/></a>"
      ]
    },
    {
      "cell_type": "code",
      "execution_count": 1,
      "metadata": {
        "colab": {
          "base_uri": "https://localhost:8080/"
        },
        "id": "ptsUp0s5FEnu",
        "outputId": "598aed90-9a1e-41a0-b5a6-49981fe1e05f"
      },
      "outputs": [
        {
          "output_type": "stream",
          "name": "stdout",
          "text": [
            "Ranked documents based on TF-IDF similarity to the query:\n",
            "Rank 1: Similarity Score: 0.9505, Document: 'This document is the second document.'\n",
            "Rank 2: Similarity Score: 0.6042, Document: 'This is the first document.'\n",
            "Rank 3: Similarity Score: 0.6042, Document: 'Is this the first document?'\n",
            "Rank 4: Similarity Score: 0.2804, Document: 'And this is the third one.'\n"
          ]
        }
      ],
      "source": [
        "from sklearn.feature_extraction.text import TfidfVectorizer\n",
        "from sklearn.metrics.pairwise import cosine_similarity\n",
        "\n",
        "documents = [\n",
        "    \"This is the first document.\",\n",
        "    \"This document is the second document.\",\n",
        "    \"And this is the third one.\",\n",
        "    \"Is this the first document?\",\n",
        "]\n",
        "\n",
        "vectorizer = TfidfVectorizer()\n",
        "\n",
        "tfidf_matrix = vectorizer.fit_transform(documents)\n",
        "\n",
        "query = \"this is the second document\"\n",
        "\n",
        "query_vector = vectorizer.transform([query])\n",
        "\n",
        "cosine_similarities = cosine_similarity(query_vector, tfidf_matrix).flatten()\n",
        "\n",
        "document_scores = [(score, doc) for score, doc in zip(cosine_similarities, documents)]\n",
        "sorted_documents = sorted(document_scores, key=lambda x: x[0], reverse=True)\n",
        "\n",
        "print(\"Ranked documents based on TF-IDF similarity to the query:\")\n",
        "for i, (score, doc) in enumerate(sorted_documents, start=1):\n",
        "    print(f\"Rank {i}: Similarity Score: {score:.4f}, Document: '{doc}'\")\n"
      ]
    }
  ]
}